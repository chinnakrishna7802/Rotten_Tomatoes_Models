{
 "cells": [
  {
   "cell_type": "code",
   "execution_count": 64,
   "metadata": {},
   "outputs": [],
   "source": [
    "import pandas as pd\n",
    "import numpy as np "
   ]
  },
  {
   "cell_type": "markdown",
   "metadata": {},
   "source": [
    "## import data "
   ]
  },
  {
   "cell_type": "code",
   "execution_count": 65,
   "metadata": {},
   "outputs": [
    {
     "name": "stdout",
     "output_type": "stream",
     "text": [
      "<class 'pandas.core.frame.DataFrame'>\n",
      "RangeIndex: 16638 entries, 0 to 16637\n",
      "Data columns (total 16 columns):\n",
      " #   Column              Non-Null Count  Dtype         \n",
      "---  ------              --------------  -----         \n",
      " 0   movie_title         16638 non-null  object        \n",
      " 1   movie_info          16614 non-null  object        \n",
      " 2   critics_consensus   8309 non-null   object        \n",
      " 3   rating              16638 non-null  object        \n",
      " 4   genre               16621 non-null  object        \n",
      " 5   directors           16524 non-null  object        \n",
      " 6   writers             15289 non-null  object        \n",
      " 7   cast                16354 non-null  object        \n",
      " 8   in_theaters_date    15823 non-null  datetime64[ns]\n",
      " 9   on_streaming_date   16636 non-null  datetime64[ns]\n",
      " 10  runtime_in_minutes  16483 non-null  float64       \n",
      " 11  studio_name         16222 non-null  object        \n",
      " 12  tomatometer_status  16638 non-null  object        \n",
      " 13  tomatometer_rating  16638 non-null  int64         \n",
      " 14  tomatometer_count   16638 non-null  int64         \n",
      " 15  audience_rating     16386 non-null  float64       \n",
      "dtypes: datetime64[ns](2), float64(2), int64(2), object(10)\n",
      "memory usage: 2.0+ MB\n"
     ]
    }
   ],
   "source": [
    "df=pd.read_excel(\"Rotten_Tomatoes_Movies3.xls\")\n",
    "df.info()"
   ]
  },
  {
   "cell_type": "code",
   "execution_count": 66,
   "metadata": {},
   "outputs": [
    {
     "data": {
      "text/html": [
       "<div>\n",
       "<style scoped>\n",
       "    .dataframe tbody tr th:only-of-type {\n",
       "        vertical-align: middle;\n",
       "    }\n",
       "\n",
       "    .dataframe tbody tr th {\n",
       "        vertical-align: top;\n",
       "    }\n",
       "\n",
       "    .dataframe thead th {\n",
       "        text-align: right;\n",
       "    }\n",
       "</style>\n",
       "<table border=\"1\" class=\"dataframe\">\n",
       "  <thead>\n",
       "    <tr style=\"text-align: right;\">\n",
       "      <th></th>\n",
       "      <th>movie_title</th>\n",
       "      <th>movie_info</th>\n",
       "      <th>critics_consensus</th>\n",
       "      <th>rating</th>\n",
       "      <th>genre</th>\n",
       "      <th>directors</th>\n",
       "      <th>writers</th>\n",
       "      <th>cast</th>\n",
       "      <th>in_theaters_date</th>\n",
       "      <th>on_streaming_date</th>\n",
       "      <th>runtime_in_minutes</th>\n",
       "      <th>studio_name</th>\n",
       "      <th>tomatometer_status</th>\n",
       "      <th>tomatometer_rating</th>\n",
       "      <th>tomatometer_count</th>\n",
       "      <th>audience_rating</th>\n",
       "    </tr>\n",
       "  </thead>\n",
       "  <tbody>\n",
       "    <tr>\n",
       "      <th>0</th>\n",
       "      <td>Percy Jackson &amp; the Olympians: The Lightning T...</td>\n",
       "      <td>A teenager discovers he's the descendant of a ...</td>\n",
       "      <td>Though it may seem like just another Harry Pot...</td>\n",
       "      <td>PG</td>\n",
       "      <td>Action &amp; Adventure, Comedy, Drama, Science Fic...</td>\n",
       "      <td>Chris Columbus</td>\n",
       "      <td>Craig Titley</td>\n",
       "      <td>Logan Lerman, Brandon T. Jackson, Alexandra Da...</td>\n",
       "      <td>2010-02-12</td>\n",
       "      <td>2010-06-29</td>\n",
       "      <td>83.0</td>\n",
       "      <td>20th Century Fox</td>\n",
       "      <td>Rotten</td>\n",
       "      <td>49</td>\n",
       "      <td>144</td>\n",
       "      <td>53.0</td>\n",
       "    </tr>\n",
       "    <tr>\n",
       "      <th>1</th>\n",
       "      <td>Please Give</td>\n",
       "      <td>Kate has a lot on her mind. There's the ethics...</td>\n",
       "      <td>Nicole Holofcener's newest might seem slight i...</td>\n",
       "      <td>R</td>\n",
       "      <td>Comedy</td>\n",
       "      <td>Nicole Holofcener</td>\n",
       "      <td>Nicole Holofcener</td>\n",
       "      <td>Catherine Keener, Amanda Peet, Oliver Platt, R...</td>\n",
       "      <td>2010-04-30</td>\n",
       "      <td>2010-10-19</td>\n",
       "      <td>90.0</td>\n",
       "      <td>Sony Pictures Classics</td>\n",
       "      <td>Certified Fresh</td>\n",
       "      <td>86</td>\n",
       "      <td>140</td>\n",
       "      <td>64.0</td>\n",
       "    </tr>\n",
       "    <tr>\n",
       "      <th>2</th>\n",
       "      <td>10</td>\n",
       "      <td>Blake Edwards' 10 stars Dudley Moore as George...</td>\n",
       "      <td>NaN</td>\n",
       "      <td>R</td>\n",
       "      <td>Comedy, Romance</td>\n",
       "      <td>Blake Edwards</td>\n",
       "      <td>Blake Edwards</td>\n",
       "      <td>Dudley Moore, Bo Derek, Julie Andrews, Robert ...</td>\n",
       "      <td>1979-10-05</td>\n",
       "      <td>1997-08-27</td>\n",
       "      <td>118.0</td>\n",
       "      <td>Waner Bros.</td>\n",
       "      <td>Fresh</td>\n",
       "      <td>68</td>\n",
       "      <td>22</td>\n",
       "      <td>53.0</td>\n",
       "    </tr>\n",
       "    <tr>\n",
       "      <th>3</th>\n",
       "      <td>12 Angry Men (Twelve Angry Men)</td>\n",
       "      <td>A Puerto Rican youth is on trial for murder, a...</td>\n",
       "      <td>Sidney Lumet's feature debut is a superbly wri...</td>\n",
       "      <td>NR</td>\n",
       "      <td>Classics, Drama</td>\n",
       "      <td>Sidney Lumet</td>\n",
       "      <td>Reginald Rose</td>\n",
       "      <td>Martin Balsam, John Fiedler, Lee J. Cobb, E.G....</td>\n",
       "      <td>1957-04-13</td>\n",
       "      <td>2001-03-06</td>\n",
       "      <td>95.0</td>\n",
       "      <td>Criterion Collection</td>\n",
       "      <td>Certified Fresh</td>\n",
       "      <td>100</td>\n",
       "      <td>51</td>\n",
       "      <td>97.0</td>\n",
       "    </tr>\n",
       "    <tr>\n",
       "      <th>4</th>\n",
       "      <td>20,000 Leagues Under The Sea</td>\n",
       "      <td>This 1954 Disney version of Jules Verne's 20,0...</td>\n",
       "      <td>One of Disney's finest live-action adventures,...</td>\n",
       "      <td>G</td>\n",
       "      <td>Action &amp; Adventure, Drama, Kids &amp; Family</td>\n",
       "      <td>Richard Fleischer</td>\n",
       "      <td>Earl Felton</td>\n",
       "      <td>James Mason, Kirk Douglas, Paul Lukas, Peter L...</td>\n",
       "      <td>1954-01-01</td>\n",
       "      <td>2003-05-20</td>\n",
       "      <td>127.0</td>\n",
       "      <td>Disney</td>\n",
       "      <td>Fresh</td>\n",
       "      <td>89</td>\n",
       "      <td>27</td>\n",
       "      <td>74.0</td>\n",
       "    </tr>\n",
       "  </tbody>\n",
       "</table>\n",
       "</div>"
      ],
      "text/plain": [
       "                                         movie_title  \\\n",
       "0  Percy Jackson & the Olympians: The Lightning T...   \n",
       "1                                        Please Give   \n",
       "2                                                 10   \n",
       "3                    12 Angry Men (Twelve Angry Men)   \n",
       "4                       20,000 Leagues Under The Sea   \n",
       "\n",
       "                                          movie_info  \\\n",
       "0  A teenager discovers he's the descendant of a ...   \n",
       "1  Kate has a lot on her mind. There's the ethics...   \n",
       "2  Blake Edwards' 10 stars Dudley Moore as George...   \n",
       "3  A Puerto Rican youth is on trial for murder, a...   \n",
       "4  This 1954 Disney version of Jules Verne's 20,0...   \n",
       "\n",
       "                                   critics_consensus rating  \\\n",
       "0  Though it may seem like just another Harry Pot...     PG   \n",
       "1  Nicole Holofcener's newest might seem slight i...      R   \n",
       "2                                                NaN      R   \n",
       "3  Sidney Lumet's feature debut is a superbly wri...     NR   \n",
       "4  One of Disney's finest live-action adventures,...      G   \n",
       "\n",
       "                                               genre          directors  \\\n",
       "0  Action & Adventure, Comedy, Drama, Science Fic...     Chris Columbus   \n",
       "1                                             Comedy  Nicole Holofcener   \n",
       "2                                    Comedy, Romance      Blake Edwards   \n",
       "3                                    Classics, Drama       Sidney Lumet   \n",
       "4           Action & Adventure, Drama, Kids & Family  Richard Fleischer   \n",
       "\n",
       "             writers                                               cast  \\\n",
       "0       Craig Titley  Logan Lerman, Brandon T. Jackson, Alexandra Da...   \n",
       "1  Nicole Holofcener  Catherine Keener, Amanda Peet, Oliver Platt, R...   \n",
       "2      Blake Edwards  Dudley Moore, Bo Derek, Julie Andrews, Robert ...   \n",
       "3      Reginald Rose  Martin Balsam, John Fiedler, Lee J. Cobb, E.G....   \n",
       "4        Earl Felton  James Mason, Kirk Douglas, Paul Lukas, Peter L...   \n",
       "\n",
       "  in_theaters_date on_streaming_date  runtime_in_minutes  \\\n",
       "0       2010-02-12        2010-06-29                83.0   \n",
       "1       2010-04-30        2010-10-19                90.0   \n",
       "2       1979-10-05        1997-08-27               118.0   \n",
       "3       1957-04-13        2001-03-06                95.0   \n",
       "4       1954-01-01        2003-05-20               127.0   \n",
       "\n",
       "              studio_name tomatometer_status  tomatometer_rating  \\\n",
       "0        20th Century Fox             Rotten                  49   \n",
       "1  Sony Pictures Classics    Certified Fresh                  86   \n",
       "2             Waner Bros.              Fresh                  68   \n",
       "3    Criterion Collection    Certified Fresh                 100   \n",
       "4                  Disney              Fresh                  89   \n",
       "\n",
       "   tomatometer_count  audience_rating  \n",
       "0                144             53.0  \n",
       "1                140             64.0  \n",
       "2                 22             53.0  \n",
       "3                 51             97.0  \n",
       "4                 27             74.0  "
      ]
     },
     "execution_count": 66,
     "metadata": {},
     "output_type": "execute_result"
    }
   ],
   "source": [
    "df.head()"
   ]
  },
  {
   "cell_type": "markdown",
   "metadata": {},
   "source": [
    "## feature selection and EDA"
   ]
  },
  {
   "cell_type": "code",
   "execution_count": 67,
   "metadata": {},
   "outputs": [],
   "source": [
    "data=df.drop(columns=['cast','writers','directors','genre','critics_consensus','movie_info','movie_title','in_theaters_date','on_streaming_date','studio_name'])"
   ]
  },
  {
   "cell_type": "code",
   "execution_count": 68,
   "metadata": {},
   "outputs": [
    {
     "data": {
      "text/plain": [
       "rating                  0\n",
       "runtime_in_minutes    155\n",
       "tomatometer_status      0\n",
       "tomatometer_rating      0\n",
       "tomatometer_count       0\n",
       "audience_rating       252\n",
       "dtype: int64"
      ]
     },
     "execution_count": 68,
     "metadata": {},
     "output_type": "execute_result"
    }
   ],
   "source": [
    "data.isnull().sum()"
   ]
  },
  {
   "cell_type": "code",
   "execution_count": 69,
   "metadata": {},
   "outputs": [],
   "source": [
    "data.dropna(how='any',inplace=True)"
   ]
  },
  {
   "cell_type": "code",
   "execution_count": 70,
   "metadata": {},
   "outputs": [],
   "source": [
    "# data['runtime_in_minutes'].fillna(data['runtime_in_minutes'].mean(),inplace=True)"
   ]
  },
  {
   "cell_type": "code",
   "execution_count": 71,
   "metadata": {},
   "outputs": [],
   "source": [
    "# data['audience_rating'].fillna(data['audience_rating'].mean(),inplace=True)"
   ]
  },
  {
   "cell_type": "code",
   "execution_count": 72,
   "metadata": {},
   "outputs": [
    {
     "data": {
      "image/png": "[encoded data removed]",
      "text/plain": [
       "<Figure size 800x600 with 1 Axes>"
      ]
     },
     "metadata": {},
     "output_type": "display_data"
    }
   ],
   "source": [
    "import matplotlib.pyplot as plt\n",
    "import seaborn as sns\n",
    "%matplotlib inline\n",
    "plt.figure(figsize=(8, 6))  # Set figure size\n",
    "sns.histplot(data['runtime_in_minutes'], bins=30, kde=True, color='skyblue')\n",
    "plt.show()"
   ]
  },
  {
   "cell_type": "code",
   "execution_count": 62,
   "metadata": {},
   "outputs": [
    {
     "data": {
      "text/plain": [
       "array([1., 3., 5., 0., 2., 4.])"
      ]
     },
     "execution_count": 62,
     "metadata": {},
     "output_type": "execute_result"
    }
   ],
   "source": [
    "data['rating'].unique()"
   ]
  },
  {
   "cell_type": "code",
   "execution_count": 73,
   "metadata": {},
   "outputs": [],
   "source": [
    "data['rating'] = data['rating'].apply(lambda x: ''.join([char for char in x if char != ')']))\n"
   ]
  },
  {
   "cell_type": "code",
   "execution_count": 74,
   "metadata": {},
   "outputs": [
    {
     "data": {
      "text/plain": [
       "array(['PG', 'R', 'NR', 'G', 'PG-13', 'NC17'], dtype=object)"
      ]
     },
     "execution_count": 74,
     "metadata": {},
     "output_type": "execute_result"
    }
   ],
   "source": [
    "data['rating'].unique()"
   ]
  },
  {
   "cell_type": "code",
   "execution_count": 178,
   "metadata": {},
   "outputs": [
    {
     "data": {
      "text/plain": [
       "array(['Rotten', 'Certified Fresh', 'Fresh'], dtype=object)"
      ]
     },
     "execution_count": 178,
     "metadata": {},
     "output_type": "execute_result"
    }
   ],
   "source": [
    "data['tomatometer_status'].unique()"
   ]
  },
  {
   "cell_type": "code",
   "execution_count": 179,
   "metadata": {},
   "outputs": [
    {
     "data": {
      "text/html": [
       "<div>\n",
       "<style scoped>\n",
       "    .dataframe tbody tr th:only-of-type {\n",
       "        vertical-align: middle;\n",
       "    }\n",
       "\n",
       "    .dataframe tbody tr th {\n",
       "        vertical-align: top;\n",
       "    }\n",
       "\n",
       "    .dataframe thead th {\n",
       "        text-align: right;\n",
       "    }\n",
       "</style>\n",
       "<table border=\"1\" class=\"dataframe\">\n",
       "  <thead>\n",
       "    <tr style=\"text-align: right;\">\n",
       "      <th></th>\n",
       "      <th>rating</th>\n",
       "      <th>runtime_in_minutes</th>\n",
       "      <th>tomatometer_status</th>\n",
       "      <th>tomatometer_rating</th>\n",
       "      <th>tomatometer_count</th>\n",
       "      <th>audience_rating</th>\n",
       "    </tr>\n",
       "  </thead>\n",
       "  <tbody>\n",
       "    <tr>\n",
       "      <th>0</th>\n",
       "      <td>PG</td>\n",
       "      <td>83.0</td>\n",
       "      <td>Rotten</td>\n",
       "      <td>49</td>\n",
       "      <td>144</td>\n",
       "      <td>53.0</td>\n",
       "    </tr>\n",
       "    <tr>\n",
       "      <th>1</th>\n",
       "      <td>R</td>\n",
       "      <td>90.0</td>\n",
       "      <td>Certified Fresh</td>\n",
       "      <td>86</td>\n",
       "      <td>140</td>\n",
       "      <td>64.0</td>\n",
       "    </tr>\n",
       "    <tr>\n",
       "      <th>2</th>\n",
       "      <td>R</td>\n",
       "      <td>118.0</td>\n",
       "      <td>Fresh</td>\n",
       "      <td>68</td>\n",
       "      <td>22</td>\n",
       "      <td>53.0</td>\n",
       "    </tr>\n",
       "    <tr>\n",
       "      <th>3</th>\n",
       "      <td>NR</td>\n",
       "      <td>95.0</td>\n",
       "      <td>Certified Fresh</td>\n",
       "      <td>100</td>\n",
       "      <td>51</td>\n",
       "      <td>97.0</td>\n",
       "    </tr>\n",
       "    <tr>\n",
       "      <th>4</th>\n",
       "      <td>G</td>\n",
       "      <td>127.0</td>\n",
       "      <td>Fresh</td>\n",
       "      <td>89</td>\n",
       "      <td>27</td>\n",
       "      <td>74.0</td>\n",
       "    </tr>\n",
       "    <tr>\n",
       "      <th>...</th>\n",
       "      <td>...</td>\n",
       "      <td>...</td>\n",
       "      <td>...</td>\n",
       "      <td>...</td>\n",
       "      <td>...</td>\n",
       "      <td>...</td>\n",
       "    </tr>\n",
       "    <tr>\n",
       "      <th>16633</th>\n",
       "      <td>R</td>\n",
       "      <td>104.0</td>\n",
       "      <td>Rotten</td>\n",
       "      <td>56</td>\n",
       "      <td>9</td>\n",
       "      <td>74.0</td>\n",
       "    </tr>\n",
       "    <tr>\n",
       "      <th>16634</th>\n",
       "      <td>PG</td>\n",
       "      <td>108.0</td>\n",
       "      <td>Certified Fresh</td>\n",
       "      <td>97</td>\n",
       "      <td>279</td>\n",
       "      <td>92.0</td>\n",
       "    </tr>\n",
       "    <tr>\n",
       "      <th>16635</th>\n",
       "      <td>NR</td>\n",
       "      <td>142.0</td>\n",
       "      <td>Fresh</td>\n",
       "      <td>78</td>\n",
       "      <td>9</td>\n",
       "      <td>87.0</td>\n",
       "    </tr>\n",
       "    <tr>\n",
       "      <th>16636</th>\n",
       "      <td>PG</td>\n",
       "      <td>139.0</td>\n",
       "      <td>Fresh</td>\n",
       "      <td>95</td>\n",
       "      <td>21</td>\n",
       "      <td>91.0</td>\n",
       "    </tr>\n",
       "    <tr>\n",
       "      <th>16637</th>\n",
       "      <td>PG</td>\n",
       "      <td>117.0</td>\n",
       "      <td>Rotten</td>\n",
       "      <td>57</td>\n",
       "      <td>7</td>\n",
       "      <td>62.0</td>\n",
       "    </tr>\n",
       "  </tbody>\n",
       "</table>\n",
       "<p>16239 rows × 6 columns</p>\n",
       "</div>"
      ],
      "text/plain": [
       "      rating  runtime_in_minutes tomatometer_status  tomatometer_rating  \\\n",
       "0         PG                83.0             Rotten                  49   \n",
       "1          R                90.0    Certified Fresh                  86   \n",
       "2          R               118.0              Fresh                  68   \n",
       "3         NR                95.0    Certified Fresh                 100   \n",
       "4          G               127.0              Fresh                  89   \n",
       "...      ...                 ...                ...                 ...   \n",
       "16633      R               104.0             Rotten                  56   \n",
       "16634     PG               108.0    Certified Fresh                  97   \n",
       "16635     NR               142.0              Fresh                  78   \n",
       "16636     PG               139.0              Fresh                  95   \n",
       "16637     PG               117.0             Rotten                  57   \n",
       "\n",
       "       tomatometer_count  audience_rating  \n",
       "0                    144             53.0  \n",
       "1                    140             64.0  \n",
       "2                     22             53.0  \n",
       "3                     51             97.0  \n",
       "4                     27             74.0  \n",
       "...                  ...              ...  \n",
       "16633                  9             74.0  \n",
       "16634                279             92.0  \n",
       "16635                  9             87.0  \n",
       "16636                 21             91.0  \n",
       "16637                  7             62.0  \n",
       "\n",
       "[16239 rows x 6 columns]"
      ]
     },
     "execution_count": 179,
     "metadata": {},
     "output_type": "execute_result"
    }
   ],
   "source": [
    "data"
   ]
  },
  {
   "cell_type": "markdown",
   "metadata": {},
   "source": [
    "### feature transformation"
   ]
  },
  {
   "cell_type": "code",
   "execution_count": 14,
   "metadata": {},
   "outputs": [],
   "source": [
    "from sklearn.preprocessing import OrdinalEncoder"
   ]
  },
  {
   "cell_type": "code",
   "execution_count": 15,
   "metadata": {},
   "outputs": [
    {
     "name": "stdout",
     "output_type": "stream",
     "text": [
      "<class 'pandas.core.frame.DataFrame'>\n",
      "Index: 16239 entries, 0 to 16637\n",
      "Data columns (total 6 columns):\n",
      " #   Column              Non-Null Count  Dtype  \n",
      "---  ------              --------------  -----  \n",
      " 0   rating              16239 non-null  object \n",
      " 1   runtime_in_minutes  16239 non-null  float64\n",
      " 2   tomatometer_status  16239 non-null  object \n",
      " 3   tomatometer_rating  16239 non-null  int64  \n",
      " 4   tomatometer_count   16239 non-null  int64  \n",
      " 5   audience_rating     16239 non-null  float64\n",
      "dtypes: float64(2), int64(2), object(2)\n",
      "memory usage: 888.1+ KB\n"
     ]
    }
   ],
   "source": [
    "data.info()"
   ]
  },
  {
   "cell_type": "code",
   "execution_count": 16,
   "metadata": {},
   "outputs": [],
   "source": [
    "categories=[['G', 'PG', 'PG-13', 'R', 'NC17', 'NR']]\n",
    "categories\n",
    "encoder=OrdinalEncoder(categories=categories)\n",
    "data['rating']=encoder.fit_transform(data[['rating']])"
   ]
  },
  {
   "cell_type": "code",
   "execution_count": 17,
   "metadata": {},
   "outputs": [],
   "source": [
    "categories=[['Rotten', 'Fresh' ,'Certified Fresh']]\n",
    "encoder=OrdinalEncoder(categories=categories)\n",
    "data['tomatometer_status']=encoder.fit_transform(data[['tomatometer_status']])"
   ]
  },
  {
   "cell_type": "code",
   "execution_count": 185,
   "metadata": {},
   "outputs": [
    {
     "name": "stdout",
     "output_type": "stream",
     "text": [
      "<class 'pandas.core.frame.DataFrame'>\n",
      "Index: 16239 entries, 0 to 16637\n",
      "Data columns (total 6 columns):\n",
      " #   Column              Non-Null Count  Dtype  \n",
      "---  ------              --------------  -----  \n",
      " 0   rating              16239 non-null  float64\n",
      " 1   runtime_in_minutes  16239 non-null  float64\n",
      " 2   tomatometer_status  16239 non-null  float64\n",
      " 3   tomatometer_rating  16239 non-null  int64  \n",
      " 4   tomatometer_count   16239 non-null  int64  \n",
      " 5   audience_rating     16239 non-null  float64\n",
      "dtypes: float64(4), int64(2)\n",
      "memory usage: 888.1 KB\n"
     ]
    }
   ],
   "source": [
    "data.info()"
   ]
  },
  {
   "cell_type": "code",
   "execution_count": 186,
   "metadata": {},
   "outputs": [
    {
     "data": {
      "image/png": "[encoded data removed]",
      "text/plain": [
       "<Figure size 800x600 with 2 Axes>"
      ]
     },
     "metadata": {},
     "output_type": "display_data"
    }
   ],
   "source": [
    "corr_matrix = data.corr()\n",
    "import matplotlib.pyplot as plt\n",
    "import seaborn as sns\n",
    "%matplotlib inline\n",
    "\n",
    "\n",
    "# Create a heatmap\n",
    "plt.figure(figsize=(8, 6))  # Set the figure size\n",
    "sns.heatmap(corr_matrix, annot=True, cmap='coolwarm', fmt='.2f', linewidths=0.5)\n",
    "plt.title('Correlation Heatmap')  # Optional: Set the title\n",
    "plt.show()"
   ]
  },
  {
   "cell_type": "code",
   "execution_count": 187,
   "metadata": {},
   "outputs": [
    {
     "data": {
      "text/html": [
       "<div>\n",
       "<style scoped>\n",
       "    .dataframe tbody tr th:only-of-type {\n",
       "        vertical-align: middle;\n",
       "    }\n",
       "\n",
       "    .dataframe tbody tr th {\n",
       "        vertical-align: top;\n",
       "    }\n",
       "\n",
       "    .dataframe thead th {\n",
       "        text-align: right;\n",
       "    }\n",
       "</style>\n",
       "<table border=\"1\" class=\"dataframe\">\n",
       "  <thead>\n",
       "    <tr style=\"text-align: right;\">\n",
       "      <th></th>\n",
       "      <th>rating</th>\n",
       "      <th>runtime_in_minutes</th>\n",
       "      <th>tomatometer_status</th>\n",
       "      <th>tomatometer_rating</th>\n",
       "      <th>tomatometer_count</th>\n",
       "      <th>audience_rating</th>\n",
       "    </tr>\n",
       "  </thead>\n",
       "  <tbody>\n",
       "    <tr>\n",
       "      <th>count</th>\n",
       "      <td>16239.000000</td>\n",
       "      <td>16239.000000</td>\n",
       "      <td>16239.000000</td>\n",
       "      <td>16239.000000</td>\n",
       "      <td>16239.000000</td>\n",
       "      <td>16239.000000</td>\n",
       "    </tr>\n",
       "    <tr>\n",
       "      <th>mean</th>\n",
       "      <td>3.020321</td>\n",
       "      <td>102.563520</td>\n",
       "      <td>0.745674</td>\n",
       "      <td>60.455324</td>\n",
       "      <td>57.025433</td>\n",
       "      <td>60.521153</td>\n",
       "    </tr>\n",
       "    <tr>\n",
       "      <th>std</th>\n",
       "      <td>1.473987</td>\n",
       "      <td>25.039112</td>\n",
       "      <td>0.742563</td>\n",
       "      <td>28.569682</td>\n",
       "      <td>66.306572</td>\n",
       "      <td>20.443700</td>\n",
       "    </tr>\n",
       "    <tr>\n",
       "      <th>min</th>\n",
       "      <td>0.000000</td>\n",
       "      <td>1.000000</td>\n",
       "      <td>0.000000</td>\n",
       "      <td>0.000000</td>\n",
       "      <td>5.000000</td>\n",
       "      <td>0.000000</td>\n",
       "    </tr>\n",
       "    <tr>\n",
       "      <th>25%</th>\n",
       "      <td>2.000000</td>\n",
       "      <td>90.000000</td>\n",
       "      <td>0.000000</td>\n",
       "      <td>38.000000</td>\n",
       "      <td>12.000000</td>\n",
       "      <td>45.000000</td>\n",
       "    </tr>\n",
       "    <tr>\n",
       "      <th>50%</th>\n",
       "      <td>3.000000</td>\n",
       "      <td>99.000000</td>\n",
       "      <td>1.000000</td>\n",
       "      <td>66.000000</td>\n",
       "      <td>29.000000</td>\n",
       "      <td>63.000000</td>\n",
       "    </tr>\n",
       "    <tr>\n",
       "      <th>75%</th>\n",
       "      <td>5.000000</td>\n",
       "      <td>111.000000</td>\n",
       "      <td>1.000000</td>\n",
       "      <td>86.000000</td>\n",
       "      <td>77.000000</td>\n",
       "      <td>78.000000</td>\n",
       "    </tr>\n",
       "    <tr>\n",
       "      <th>max</th>\n",
       "      <td>5.000000</td>\n",
       "      <td>2000.000000</td>\n",
       "      <td>2.000000</td>\n",
       "      <td>100.000000</td>\n",
       "      <td>497.000000</td>\n",
       "      <td>100.000000</td>\n",
       "    </tr>\n",
       "  </tbody>\n",
       "</table>\n",
       "</div>"
      ],
      "text/plain": [
       "             rating  runtime_in_minutes  tomatometer_status  \\\n",
       "count  16239.000000        16239.000000        16239.000000   \n",
       "mean       3.020321          102.563520            0.745674   \n",
       "std        1.473987           25.039112            0.742563   \n",
       "min        0.000000            1.000000            0.000000   \n",
       "25%        2.000000           90.000000            0.000000   \n",
       "50%        3.000000           99.000000            1.000000   \n",
       "75%        5.000000          111.000000            1.000000   \n",
       "max        5.000000         2000.000000            2.000000   \n",
       "\n",
       "       tomatometer_rating  tomatometer_count  audience_rating  \n",
       "count        16239.000000       16239.000000     16239.000000  \n",
       "mean            60.455324          57.025433        60.521153  \n",
       "std             28.569682          66.306572        20.443700  \n",
       "min              0.000000           5.000000         0.000000  \n",
       "25%             38.000000          12.000000        45.000000  \n",
       "50%             66.000000          29.000000        63.000000  \n",
       "75%             86.000000          77.000000        78.000000  \n",
       "max            100.000000         497.000000       100.000000  "
      ]
     },
     "execution_count": 187,
     "metadata": {},
     "output_type": "execute_result"
    }
   ],
   "source": [
    "data.describe()"
   ]
  },
  {
   "cell_type": "code",
   "execution_count": 188,
   "metadata": {},
   "outputs": [],
   "source": [
    "import pandas as pd\n",
    "from ydata_profiling import ProfileReport\n"
   ]
  },
  {
   "cell_type": "markdown",
   "metadata": {},
   "source": [
    "## splitting dependent and independent variable"
   ]
  },
  {
   "cell_type": "code",
   "execution_count": 18,
   "metadata": {},
   "outputs": [
    {
     "data": {
      "text/plain": [
       "0        53.0\n",
       "1        64.0\n",
       "2        53.0\n",
       "3        97.0\n",
       "4        74.0\n",
       "         ... \n",
       "16633    74.0\n",
       "16634    92.0\n",
       "16635    87.0\n",
       "16636    91.0\n",
       "16637    62.0\n",
       "Name: audience_rating, Length: 16239, dtype: float64"
      ]
     },
     "execution_count": 18,
     "metadata": {},
     "output_type": "execute_result"
    }
   ],
   "source": [
    "x=data.iloc[:,:-1]\n",
    "y=data.iloc[:,-1]\n",
    "y"
   ]
  },
  {
   "cell_type": "code",
   "execution_count": 19,
   "metadata": {},
   "outputs": [
    {
     "name": "stdout",
     "output_type": "stream",
     "text": [
      "(11367, 5) (11367,)\n",
      "(4872, 5) (4872,)\n"
     ]
    }
   ],
   "source": [
    "from sklearn.model_selection import train_test_split\n",
    "x_train, x_test, y_train, y_test = train_test_split(x, y, test_size = 0.3, random_state = 0)\n",
    "\n",
    "print(x_train.shape, y_train.shape)\n",
    "print(x_test.shape, y_test.shape)"
   ]
  },
  {
   "cell_type": "markdown",
   "metadata": {},
   "source": [
    "### feature scaling"
   ]
  },
  {
   "cell_type": "code",
   "execution_count": 20,
   "metadata": {},
   "outputs": [
    {
     "name": "stdout",
     "output_type": "stream",
     "text": [
      "(11367, 5)\n"
     ]
    }
   ],
   "source": [
    "from sklearn.preprocessing import StandardScaler\n",
    "scaler = StandardScaler()\n",
    "\n",
    "x_train_transformed = pd.DataFrame(scaler.fit_transform(x_train),columns=x_train.columns)\n",
    "\n",
    "print(x_train_transformed.shape)"
   ]
  },
  {
   "cell_type": "code",
   "execution_count": 21,
   "metadata": {},
   "outputs": [],
   "source": [
    "x_test_transformed = pd.DataFrame(scaler.fit_transform(x_test),columns=x_train.columns)"
   ]
  },
  {
   "cell_type": "markdown",
   "metadata": {},
   "source": [
    "## model building"
   ]
  },
  {
   "cell_type": "markdown",
   "metadata": {},
   "source": [
    "### linear Regression"
   ]
  },
  {
   "cell_type": "code",
   "execution_count": 198,
   "metadata": {},
   "outputs": [
    {
     "data": {
      "text/html": [
       "<style>#sk-container-id-1 {color: black;background-color: white;}#sk-container-id-1 pre{padding: 0;}#sk-container-id-1 div.sk-toggleable {background-color: white;}#sk-container-id-1 label.sk-toggleable__label {cursor: pointer;display: block;width: 100%;margin-bottom: 0;padding: 0.3em;box-sizing: border-box;text-align: center;}#sk-container-id-1 label.sk-toggleable__label-arrow:before {content: \"▸\";float: left;margin-right: 0.25em;color: #696969;}#sk-container-id-1 label.sk-toggleable__label-arrow:hover:before {color: black;}#sk-container-id-1 div.sk-estimator:hover label.sk-toggleable__label-arrow:before {color: black;}#sk-container-id-1 div.sk-toggleable__content {max-height: 0;max-width: 0;overflow: hidden;text-align: left;background-color: #f0f8ff;}#sk-container-id-1 div.sk-toggleable__content pre {margin: 0.2em;color: black;border-radius: 0.25em;background-color: #f0f8ff;}#sk-container-id-1 input.sk-toggleable__control:checked~div.sk-toggleable__content {max-height: 200px;max-width: 100%;overflow: auto;}#sk-container-id-1 input.sk-toggleable__control:checked~label.sk-toggleable__label-arrow:before {content: \"▾\";}#sk-container-id-1 div.sk-estimator input.sk-toggleable__control:checked~label.sk-toggleable__label {background-color: #d4ebff;}#sk-container-id-1 div.sk-label input.sk-toggleable__control:checked~label.sk-toggleable__label {background-color: #d4ebff;}#sk-container-id-1 input.sk-hidden--visually {border: 0;clip: rect(1px 1px 1px 1px);clip: rect(1px, 1px, 1px, 1px);height: 1px;margin: -1px;overflow: hidden;padding: 0;position: absolute;width: 1px;}#sk-container-id-1 div.sk-estimator {font-family: monospace;background-color: #f0f8ff;border: 1px dotted black;border-radius: 0.25em;box-sizing: border-box;margin-bottom: 0.5em;}#sk-container-id-1 div.sk-estimator:hover {background-color: #d4ebff;}#sk-container-id-1 div.sk-parallel-item::after {content: \"\";width: 100%;border-bottom: 1px solid gray;flex-grow: 1;}#sk-container-id-1 div.sk-label:hover label.sk-toggleable__label {background-color: #d4ebff;}#sk-container-id-1 div.sk-serial::before {content: \"\";position: absolute;border-left: 1px solid gray;box-sizing: border-box;top: 0;bottom: 0;left: 50%;z-index: 0;}#sk-container-id-1 div.sk-serial {display: flex;flex-direction: column;align-items: center;background-color: white;padding-right: 0.2em;padding-left: 0.2em;position: relative;}#sk-container-id-1 div.sk-item {position: relative;z-index: 1;}#sk-container-id-1 div.sk-parallel {display: flex;align-items: stretch;justify-content: center;background-color: white;position: relative;}#sk-container-id-1 div.sk-item::before, #sk-container-id-1 div.sk-parallel-item::before {content: \"\";position: absolute;border-left: 1px solid gray;box-sizing: border-box;top: 0;bottom: 0;left: 50%;z-index: -1;}#sk-container-id-1 div.sk-parallel-item {display: flex;flex-direction: column;z-index: 1;position: relative;background-color: white;}#sk-container-id-1 div.sk-parallel-item:first-child::after {align-self: flex-end;width: 50%;}#sk-container-id-1 div.sk-parallel-item:last-child::after {align-self: flex-start;width: 50%;}#sk-container-id-1 div.sk-parallel-item:only-child::after {width: 0;}#sk-container-id-1 div.sk-dashed-wrapped {border: 1px dashed gray;margin: 0 0.4em 0.5em 0.4em;box-sizing: border-box;padding-bottom: 0.4em;background-color: white;}#sk-container-id-1 div.sk-label label {font-family: monospace;font-weight: bold;display: inline-block;line-height: 1.2em;}#sk-container-id-1 div.sk-label-container {text-align: center;}#sk-container-id-1 div.sk-container {/* jupyter's `normalize.less` sets `[hidden] { display: none; }` but bootstrap.min.css set `[hidden] { display: none !important; }` so we also need the `!important` here to be able to override the default hidden behavior on the sphinx rendered scikit-learn.org. See: https://github.com/scikit-learn/scikit-learn/issues/21755 */display: inline-block !important;position: relative;}#sk-container-id-1 div.sk-text-repr-fallback {display: none;}</style><div id=\"sk-container-id-1\" class=\"sk-top-container\"><div class=\"sk-text-repr-fallback\"><pre>RFE(estimator=LinearRegression(), n_features_to_select=3)</pre><b>In a Jupyter environment, please rerun this cell to show the HTML representation or trust the notebook. <br />On GitHub, the HTML representation is unable to render, please try loading this page with nbviewer.org.</b></div><div class=\"sk-container\" hidden><div class=\"sk-item sk-dashed-wrapped\"><div class=\"sk-label-container\"><div class=\"sk-label sk-toggleable\"><input class=\"sk-toggleable__control sk-hidden--visually\" id=\"sk-estimator-id-1\" type=\"checkbox\" ><label for=\"sk-estimator-id-1\" class=\"sk-toggleable__label sk-toggleable__label-arrow\">RFE</label><div class=\"sk-toggleable__content\"><pre>RFE(estimator=LinearRegression(), n_features_to_select=3)</pre></div></div></div><div class=\"sk-parallel\"><div class=\"sk-parallel-item\"><div class=\"sk-item\"><div class=\"sk-label-container\"><div class=\"sk-label sk-toggleable\"><input class=\"sk-toggleable__control sk-hidden--visually\" id=\"sk-estimator-id-2\" type=\"checkbox\" ><label for=\"sk-estimator-id-2\" class=\"sk-toggleable__label sk-toggleable__label-arrow\">estimator: LinearRegression</label><div class=\"sk-toggleable__content\"><pre>LinearRegression()</pre></div></div></div><div class=\"sk-serial\"><div class=\"sk-item\"><div class=\"sk-estimator sk-toggleable\"><input class=\"sk-toggleable__control sk-hidden--visually\" id=\"sk-estimator-id-3\" type=\"checkbox\" ><label for=\"sk-estimator-id-3\" class=\"sk-toggleable__label sk-toggleable__label-arrow\">LinearRegression</label><div class=\"sk-toggleable__content\"><pre>LinearRegression()</pre></div></div></div></div></div></div></div></div></div></div>"
      ],
      "text/plain": [
       "RFE(estimator=LinearRegression(), n_features_to_select=3)"
      ]
     },
     "execution_count": 198,
     "metadata": {},
     "output_type": "execute_result"
    }
   ],
   "source": [
    "from sklearn.linear_model import LinearRegression\n",
    "from sklearn.feature_selection import RFE\n",
    "\n",
    "\n",
    "model = LinearRegression()\n",
    "rfe = RFE(estimator=model, n_features_to_select=3) \n",
    "rfe.fit(x_train_transformed, y_train)\n",
    "\n"
   ]
  },
  {
   "cell_type": "code",
   "execution_count": 225,
   "metadata": {},
   "outputs": [
    {
     "data": {
      "text/plain": [
       "223.92964741383912"
      ]
     },
     "execution_count": 225,
     "metadata": {},
     "output_type": "execute_result"
    }
   ],
   "source": [
    "from sklearn.linear_model import LinearRegression\n",
    "from sklearn.feature_selection import RFE\n",
    "from sklearn.metrics import mean_squared_error\n",
    "\n",
    "model1 = LinearRegression()\n",
    "model1.fit(x_train,y_train)\n",
    "model1.coef_\n",
    "y_pred = model1.predict(x_test)\n",
    "mse = mean_squared_error(y_test, y_pred)\n",
    "mse\n",
    "\n"
   ]
  },
  {
   "cell_type": "code",
   "execution_count": 226,
   "metadata": {},
   "outputs": [
    {
     "data": {
      "text/plain": [
       "0.4712809541130092"
      ]
     },
     "execution_count": 226,
     "metadata": {},
     "output_type": "execute_result"
    }
   ],
   "source": [
    "from sklearn.metrics import r2_score\n",
    "r2 = r2_score(y_test, y_pred)\n",
    "r2"
   ]
  },
  {
   "cell_type": "code",
   "execution_count": 199,
   "metadata": {},
   "outputs": [
    {
     "data": {
      "text/plain": [
       "array([1, 2, 1, 1, 3])"
      ]
     },
     "execution_count": 199,
     "metadata": {},
     "output_type": "execute_result"
    }
   ],
   "source": [
    "ranking = rfe.ranking_\n",
    "ranking"
   ]
  },
  {
   "cell_type": "code",
   "execution_count": 227,
   "metadata": {},
   "outputs": [
    {
     "name": "stdout",
     "output_type": "stream",
     "text": [
      "Selected Features: list[Index(['rating', 'tomatometer_status', 'tomatometer_rating'], dtype='object')]\n"
     ]
    },
    {
     "data": {
      "text/plain": [
       "0.4548071953957362"
      ]
     },
     "execution_count": 227,
     "metadata": {},
     "output_type": "execute_result"
    }
   ],
   "source": [
    "from sklearn.metrics import mean_squared_error\n",
    "from sklearn.linear_model import LinearRegression\n",
    "from sklearn.feature_selection import RFE\n",
    "\n",
    "rfe = RFE(estimator=model, n_features_to_select=3) \n",
    "rfe.fit(x_train_transformed, y_train)\n",
    "\n",
    "selected_features = x.columns[rfe.support_]\n",
    "\n",
    "print(f\"Selected Features: {list[selected_features]}\")\n",
    "\n",
    "# Train the model with the selected features\n",
    "X_train_selected = x_train_transformed[selected_features]\n",
    "X_test_selected = x_test_transformed[selected_features]\n",
    "model.fit(X_train_selected, y_train)\n",
    "\n",
    "# Make predictions and evaluate the model\n",
    "y_pred = model.predict(X_test_selected)\n",
    "from sklearn.metrics import r2_score\n",
    "r2 = r2_score(y_test, y_pred)\n",
    "r2"
   ]
  },
  {
   "cell_type": "markdown",
   "metadata": {},
   "source": [
    "### ridge"
   ]
  },
  {
   "cell_type": "code",
   "execution_count": 228,
   "metadata": {},
   "outputs": [
    {
     "name": "stdout",
     "output_type": "stream",
     "text": [
      "Selected Features: list[Index(['rating', 'tomatometer_status', 'tomatometer_rating'], dtype='object')]\n"
     ]
    },
    {
     "data": {
      "text/plain": [
       "0.45480571135013337"
      ]
     },
     "execution_count": 228,
     "metadata": {},
     "output_type": "execute_result"
    }
   ],
   "source": [
    "from sklearn.linear_model import Ridge\n",
    "\n",
    "# Initialize the model\n",
    "ridge_model = Ridge(alpha=1.0)\n",
    "rfe = RFE(estimator=ridge_model, n_features_to_select=3) \n",
    "rfe.fit(x_train_transformed, y_train)\n",
    "selected_features = x.columns[rfe.support_]\n",
    "\n",
    "print(f\"Selected Features: {list[selected_features]}\")\n",
    "# Train the model\n",
    "X_train_selected = x_train_transformed[selected_features]\n",
    "X_test_selected = x_test_transformed[selected_features]\n",
    "ridge_model.fit(X_train_selected, y_train)\n",
    "\n",
    "# Make predictions\n",
    "y_pred = ridge_model.predict(X_test_selected)\n",
    "from sklearn.metrics import r2_score\n",
    "r2 = r2_score(y_test, y_pred)\n",
    "r2\n",
    "\n"
   ]
  },
  {
   "cell_type": "markdown",
   "metadata": {},
   "source": [
    "### lasso"
   ]
  },
  {
   "cell_type": "code",
   "execution_count": 81,
   "metadata": {},
   "outputs": [
    {
     "name": "stdout",
     "output_type": "stream",
     "text": [
      "Selected Features: list[Index(['runtime_in_minutes', 'tomatometer_status', 'tomatometer_rating'], dtype='object')]\n"
     ]
    },
    {
     "data": {
      "text/plain": [
       "0.4640906439139133"
      ]
     },
     "execution_count": 81,
     "metadata": {},
     "output_type": "execute_result"
    }
   ],
   "source": [
    "from sklearn.linear_model import Lasso\n",
    "from sklearn.feature_selection import RFE\n",
    "\n",
    "# Initialize the model\n",
    "lasso_model = Lasso(alpha=0.4)\n",
    "rfe = RFE(estimator=lasso_model, n_features_to_select=3) \n",
    "rfe.fit(x_train_transformed, y_train)\n",
    "selected_features = x.columns[rfe.support_]\n",
    "\n",
    "print(f\"Selected Features: {list[selected_features]}\")\n",
    "# Train the model\n",
    "X_train_selected = x_train_transformed[selected_features]\n",
    "X_test_selected = x_test_transformed[selected_features]\n",
    "lasso_model.fit(X_train_selected, y_train)\n",
    "\n",
    "# Make predictions\n",
    "y_pred = lasso_model.predict(X_test_selected)\n",
    "from sklearn.metrics import r2_score\n",
    "r2 = r2_score(y_test, y_pred)\n",
    "r2\n",
    "\n"
   ]
  },
  {
   "cell_type": "markdown",
   "metadata": {},
   "source": [
    "### ElasticNet"
   ]
  },
  {
   "cell_type": "code",
   "execution_count": 238,
   "metadata": {},
   "outputs": [
    {
     "name": "stdout",
     "output_type": "stream",
     "text": [
      "Selected Features: list[Index(['rating', 'runtime_in_minutes', 'tomatometer_status',\n",
      "       'tomatometer_rating', 'tomatometer_count'],\n",
      "      dtype='object')]\n"
     ]
    },
    {
     "data": {
      "text/plain": [
       "0.47001895727276544"
      ]
     },
     "execution_count": 238,
     "metadata": {},
     "output_type": "execute_result"
    }
   ],
   "source": [
    "from sklearn.linear_model import ElasticNet\n",
    "\n",
    "# Initialize the model\n",
    "ElasticNet_model = ElasticNet(alpha=0.1, l1_ratio=0.5)\n",
    "rfe = RFE(estimator=ElasticNet_model, n_features_to_select=5) \n",
    "rfe.fit(x_train_transformed, y_train)\n",
    "selected_features = x.columns[rfe.support_]\n",
    "\n",
    "print(f\"Selected Features: {list[selected_features]}\")\n",
    "# Train the model\n",
    "X_train_selected = x_train_transformed[selected_features]\n",
    "X_test_selected = x_test_transformed[selected_features]\n",
    "ElasticNet_model.fit(X_train_selected, y_train)\n",
    "\n",
    "# Make predictions\n",
    "y_pred = ElasticNet_model.predict(X_test_selected)\n",
    "from sklearn.metrics import r2_score\n",
    "r2 = r2_score(y_test, y_pred)\n",
    "r2\n",
    "\n"
   ]
  },
  {
   "cell_type": "markdown",
   "metadata": {},
   "source": [
    "### decison tree"
   ]
  },
  {
   "cell_type": "code",
   "execution_count": 240,
   "metadata": {},
   "outputs": [
    {
     "name": "stdout",
     "output_type": "stream",
     "text": [
      "Selected Features: list[Index(['rating', 'runtime_in_minutes', 'tomatometer_rating',\n",
      "       'tomatometer_count'],\n",
      "      dtype='object')]\n"
     ]
    },
    {
     "data": {
      "text/plain": [
       "-0.029713786655443553"
      ]
     },
     "execution_count": 240,
     "metadata": {},
     "output_type": "execute_result"
    }
   ],
   "source": [
    "from sklearn.tree import DecisionTreeRegressor\n",
    "\n",
    "# Initialize the model\n",
    "dtr_model = DecisionTreeRegressor(random_state=40)\n",
    "rfe = RFE(estimator=dtr_model, n_features_to_select=4) \n",
    "rfe.fit(x_train_transformed, y_train)\n",
    "selected_features = x.columns[rfe.support_]\n",
    "\n",
    "print(f\"Selected Features: {list[selected_features]}\")\n",
    "# Train the model\n",
    "X_train_selected = x_train_transformed[selected_features]\n",
    "X_test_selected = x_test_transformed[selected_features]\n",
    "dtr_model.fit(X_train_selected, y_train)\n",
    "\n",
    "# Make predictions\n",
    "y_pred = dtr_model.predict(X_test_selected)\n",
    "from sklearn.metrics import r2_score\n",
    "r2 = r2_score(y_test, y_pred)\n",
    "r2\n",
    "\n"
   ]
  },
  {
   "cell_type": "markdown",
   "metadata": {},
   "source": [
    "### ensmeble models"
   ]
  },
  {
   "cell_type": "code",
   "execution_count": 247,
   "metadata": {},
   "outputs": [
    {
     "name": "stdout",
     "output_type": "stream",
     "text": [
      "Selected Features: list[Index(['rating', 'runtime_in_minutes', 'tomatometer_rating',\n",
      "       'tomatometer_count'],\n",
      "      dtype='object')]\n"
     ]
    },
    {
     "data": {
      "text/plain": [
       "0.43400585188345076"
      ]
     },
     "execution_count": 247,
     "metadata": {},
     "output_type": "execute_result"
    }
   ],
   "source": [
    "from sklearn.ensemble import RandomForestRegressor\n",
    "\n",
    "# Initialize the model\n",
    "rf_model = RandomForestRegressor(random_state=40,n_estimators=100)#\n",
    "rfe = RFE(estimator=rf_model, n_features_to_select=4) #\n",
    "rfe.fit(x_train_transformed, y_train)\n",
    "selected_features = x.columns[rfe.support_]\n",
    "\n",
    "print(f\"Selected Features: {list[selected_features]}\")\n",
    "# Train the model\n",
    "X_train_selected = x_train_transformed[selected_features]\n",
    "X_test_selected = x_test_transformed[selected_features]\n",
    "rf_model.fit(X_train_selected, y_train) #\n",
    "\n",
    "# Make predictions\n",
    "y_pred = rf_model.predict(X_test_selected)\n",
    "from sklearn.metrics import r2_score\n",
    "r2 = r2_score(y_test, y_pred)\n",
    "r2\n",
    "\n"
   ]
  },
  {
   "cell_type": "code",
   "execution_count": 250,
   "metadata": {},
   "outputs": [
    {
     "name": "stdout",
     "output_type": "stream",
     "text": [
      "Selected Features: list[Index(['rating', 'runtime_in_minutes', 'tomatometer_rating',\n",
      "       'tomatometer_count'],\n",
      "      dtype='object')]\n"
     ]
    },
    {
     "data": {
      "text/plain": [
       "0.49520254785477735"
      ]
     },
     "execution_count": 250,
     "metadata": {},
     "output_type": "execute_result"
    }
   ],
   "source": [
    "from sklearn.ensemble import GradientBoostingRegressor\n",
    "\n",
    "# Initialize the model\n",
    "gbr_model = GradientBoostingRegressor(random_state=40,n_estimators=100)#\n",
    "rfe = RFE(estimator=gbr_model, n_features_to_select=4) #\n",
    "rfe.fit(x_train_transformed, y_train)\n",
    "selected_features = x.columns[rfe.support_]\n",
    "\n",
    "print(f\"Selected Features: {list[selected_features]}\")\n",
    "# Train the model\n",
    "X_train_selected = x_train_transformed[selected_features]\n",
    "X_test_selected = x_test_transformed[selected_features]\n",
    "gbr_model.fit(X_train_selected, y_train) #\n",
    "\n",
    "# Make predictions\n",
    "y_pred = gbr_model.predict(X_test_selected)#\n",
    "from sklearn.metrics import r2_score\n",
    "r2 = r2_score(y_test, y_pred)\n",
    "r2\n",
    "\n"
   ]
  },
  {
   "cell_type": "code",
   "execution_count": 253,
   "metadata": {},
   "outputs": [
    {
     "name": "stdout",
     "output_type": "stream",
     "text": [
      "Selected Features: list[Index(['runtime_in_minutes', 'tomatometer_rating', 'tomatometer_count'], dtype='object')]\n"
     ]
    },
    {
     "data": {
      "text/plain": [
       "0.45506794200519984"
      ]
     },
     "execution_count": 253,
     "metadata": {},
     "output_type": "execute_result"
    }
   ],
   "source": [
    "from sklearn.ensemble import AdaBoostRegressor\n",
    "\n",
    "# Initialize the model\n",
    "ada_model = AdaBoostRegressor(random_state=50,n_estimators=100)#\n",
    "rfe = RFE(estimator=ada_model, n_features_to_select=3) #\n",
    "rfe.fit(x_train_transformed, y_train)\n",
    "selected_features = x.columns[rfe.support_]\n",
    "\n",
    "print(f\"Selected Features: {list[selected_features]}\")\n",
    "# Train the model\n",
    "X_train_selected = x_train_transformed[selected_features]\n",
    "X_test_selected = x_test_transformed[selected_features]\n",
    "ada_model.fit(X_train_selected, y_train) #\n",
    "\n",
    "# Make predictions\n",
    "y_pred = ada_model.predict(X_test_selected)\n",
    "from sklearn.metrics import r2_score\n",
    "r2 = r2_score(y_test, y_pred)\n",
    "r2\n",
    "\n"
   ]
  },
  {
   "cell_type": "code",
   "execution_count": 256,
   "metadata": {},
   "outputs": [
    {
     "name": "stdout",
     "output_type": "stream",
     "text": [
      "[LightGBM] [Info] Auto-choosing row-wise multi-threading, the overhead of testing was 0.000265 seconds.\n",
      "You can set `force_row_wise=true` to remove the overhead.\n",
      "And if memory is not enough, you can set `force_col_wise=true`.\n",
      "[LightGBM] [Info] Total Bins 519\n",
      "[LightGBM] [Info] Number of data points in the train set: 11367, number of used features: 5\n",
      "[LightGBM] [Info] Start training from score 60.725961\n",
      "[LightGBM] [Info] Auto-choosing col-wise multi-threading, the overhead of testing was 0.000229 seconds.\n",
      "You can set `force_col_wise=true` to remove the overhead.\n",
      "[LightGBM] [Info] Total Bins 515\n",
      "[LightGBM] [Info] Number of data points in the train set: 11367, number of used features: 4\n",
      "[LightGBM] [Info] Start training from score 60.725961\n",
      "[LightGBM] [Info] Auto-choosing col-wise multi-threading, the overhead of testing was 0.000126 seconds.\n",
      "You can set `force_col_wise=true` to remove the overhead.\n",
      "[LightGBM] [Info] Total Bins 508\n",
      "[LightGBM] [Info] Number of data points in the train set: 11367, number of used features: 3\n",
      "[LightGBM] [Info] Start training from score 60.725961\n",
      "Selected Features: list[Index(['runtime_in_minutes', 'tomatometer_rating', 'tomatometer_count'], dtype='object')]\n",
      "[LightGBM] [Info] Auto-choosing col-wise multi-threading, the overhead of testing was 0.002296 seconds.\n",
      "You can set `force_col_wise=true` to remove the overhead.\n",
      "[LightGBM] [Info] Total Bins 508\n",
      "[LightGBM] [Info] Number of data points in the train set: 11367, number of used features: 3\n",
      "[LightGBM] [Info] Start training from score 60.725961\n"
     ]
    },
    {
     "data": {
      "text/plain": [
       "0.4736651197809896"
      ]
     },
     "execution_count": 256,
     "metadata": {},
     "output_type": "execute_result"
    }
   ],
   "source": [
    "import lightgbm as lgb\n",
    "# Initialize the model\n",
    "lgb_model = lgb.LGBMRegressor(random_state=50,n_estimators=100)#\n",
    "rfe = RFE(estimator=lgb_model, n_features_to_select=3) #\n",
    "rfe.fit(x_train_transformed, y_train)\n",
    "selected_features = x.columns[rfe.support_]\n",
    "\n",
    "print(f\"Selected Features: {list[selected_features]}\")\n",
    "# Train the model\n",
    "X_train_selected = x_train_transformed[selected_features]\n",
    "X_test_selected = x_test_transformed[selected_features]\n",
    "lgb_model.fit(X_train_selected, y_train) #\n",
    "\n",
    "# Make predictions\n",
    "y_pred = lgb_model.predict(X_test_selected)\n",
    "from sklearn.metrics import r2_score\n",
    "r2 = r2_score(y_test, y_pred)\n",
    "r2\n",
    "\n"
   ]
  },
  {
   "cell_type": "code",
   "execution_count": 280,
   "metadata": {},
   "outputs": [
    {
     "name": "stdout",
     "output_type": "stream",
     "text": [
      "Selected Features: list[Index(['runtime_in_minutes', 'tomatometer_status', 'tomatometer_rating'], dtype='object')]\n"
     ]
    },
    {
     "data": {
      "text/plain": [
       "0.40894099411923035"
      ]
     },
     "execution_count": 280,
     "metadata": {},
     "output_type": "execute_result"
    }
   ],
   "source": [
    "import xgboost as xgb\n",
    "# Initialize the model\n",
    "xgb_model = xgb.XGBRegressor(random_state=50,n_estimators=100)#\n",
    "rfe = RFE(estimator=xgb_model, n_features_to_select=3) #\n",
    "rfe.fit(x_train_transformed, y_train)\n",
    "selected_features = x.columns[rfe.support_]\n",
    "\n",
    "print(f\"Selected Features: {list[selected_features]}\")\n",
    "# Train the model\n",
    "X_train_selected = x_train_transformed[selected_features]\n",
    "X_test_selected = x_test_transformed[selected_features]\n",
    "xgb_model.fit(X_train_selected, y_train) #\n",
    "\n",
    "# Make predictions\n",
    "y_pred = xgb_model.predict(X_test_selected)\n",
    "from sklearn.metrics import r2_score\n",
    "r2 = r2_score(y_test, y_pred)\n",
    "r2\n",
    "\n"
   ]
  },
  {
   "cell_type": "markdown",
   "metadata": {},
   "source": [
    "### knn"
   ]
  },
  {
   "cell_type": "code",
   "execution_count": 271,
   "metadata": {},
   "outputs": [
    {
     "data": {
      "text/plain": [
       "0.447021658863055"
      ]
     },
     "execution_count": 271,
     "metadata": {},
     "output_type": "execute_result"
    }
   ],
   "source": [
    "from sklearn.neighbors import KNeighborsRegressor\n",
    "\n",
    "# Initialize the model\n",
    "knn_model = KNeighborsRegressor(n_neighbors=7)#\n",
    "# rfe = RFE(estimator=knn_model, n_features_to_select=3) #\n",
    "# rfe.fit(x_train_transformed, y_train)\n",
    "# selected_features = x.columns[rfe.support_]\n",
    "\n",
    "# print(f\"Selected Features: {list[selected_features]}\")\n",
    "# # Train the model\n",
    "# X_train_selected = x_train_transformed[selected_features]\n",
    "# X_test_selected = x_test_transformed[selected_features]\n",
    "knn_model.fit(x_train_transformed, y_train) #\n",
    "\n",
    "# Make predictions\n",
    "y_pred = knn_model.predict(x_test_transformed)\n",
    "from sklearn.metrics import r2_score\n",
    "r2 = r2_score(y_test, y_pred)\n",
    "r2\n",
    "\n"
   ]
  },
  {
   "cell_type": "markdown",
   "metadata": {},
   "source": [
    "### svr"
   ]
  },
  {
   "cell_type": "code",
   "execution_count": 265,
   "metadata": {},
   "outputs": [
    {
     "data": {
      "text/plain": [
       "0.453732444721925"
      ]
     },
     "execution_count": 265,
     "metadata": {},
     "output_type": "execute_result"
    }
   ],
   "source": [
    "from sklearn.svm import SVR\n",
    "\n",
    "# Initialize the model\n",
    "svr_model = SVR(kernel='rbf')#\n",
    "\n",
    "svr_model.fit(x_train_transformed[['rating','tomatometer_rating']], y_train) #\n",
    "\n",
    "# Make predictions\n",
    "y_pred = svr_model.predict(x_test_transformed[['rating','tomatometer_rating']])\n",
    "from sklearn.metrics import r2_score\n",
    "r2 = r2_score(y_test, y_pred)\n",
    "r2\n",
    "\n"
   ]
  },
  {
   "cell_type": "markdown",
   "metadata": {},
   "source": [
    "### svr with gridsearchCV"
   ]
  },
  {
   "cell_type": "code",
   "execution_count": 282,
   "metadata": {},
   "outputs": [
    {
     "data": {
      "text/plain": [
       "0.4852431680172845"
      ]
     },
     "execution_count": 282,
     "metadata": {},
     "output_type": "execute_result"
    }
   ],
   "source": [
    "from sklearn.model_selection import GridSearchCV\n",
    "\n",
    "param_grid = {\n",
    "    'C': [0.1, 1, 10, 100],\n",
    "    'epsilon': [0.01, 0.1, 0.5],\n",
    "    'gamma': ['scale', 'auto', 0.1, 1, 10]\n",
    "}\n",
    "\n",
    "grid_search = GridSearchCV(estimator=SVR(kernel='rbf'), param_grid=param_grid, cv=5, n_jobs=-1)\n",
    "grid_search.fit(x_train_transformed, y_train)\n",
    "best_model = grid_search.best_estimator_\n",
    "\n",
    "\n",
    "y_pred = best_model.predict(x_test_transformed)\n",
    "from sklearn.metrics import r2_score\n",
    "r2 = r2_score(y_test, y_pred)\n",
    "r2"
   ]
  },
  {
   "cell_type": "markdown",
   "metadata": {},
   "source": [
    "### just trying"
   ]
  },
  {
   "cell_type": "code",
   "execution_count": 294,
   "metadata": {},
   "outputs": [
    {
     "data": {
      "text/plain": [
       "0.4522578479559215"
      ]
     },
     "execution_count": 294,
     "metadata": {},
     "output_type": "execute_result"
    }
   ],
   "source": [
    "from sklearn.linear_model import LinearRegression\n",
    "model=LinearRegression()\n",
    "model.fit(nx,y_train)\n",
    "y_pred=model.predict(x_test[['rating','tomatometer_rating']])\n",
    "from sklearn.metrics import r2_score\n",
    "r2 = r2_score(y_test, y_pred)\n",
    "r2\n"
   ]
  },
  {
   "cell_type": "code",
   "execution_count": 293,
   "metadata": {},
   "outputs": [],
   "source": [
    "nx=x_train[['rating','tomatometer_rating']]"
   ]
  },
  {
   "cell_type": "code",
   "execution_count": 289,
   "metadata": {},
   "outputs": [
    {
     "data": {
      "text/html": [
       "<div>\n",
       "<style scoped>\n",
       "    .dataframe tbody tr th:only-of-type {\n",
       "        vertical-align: middle;\n",
       "    }\n",
       "\n",
       "    .dataframe tbody tr th {\n",
       "        vertical-align: top;\n",
       "    }\n",
       "\n",
       "    .dataframe thead th {\n",
       "        text-align: right;\n",
       "    }\n",
       "</style>\n",
       "<table border=\"1\" class=\"dataframe\">\n",
       "  <thead>\n",
       "    <tr style=\"text-align: right;\">\n",
       "      <th></th>\n",
       "      <th>rating</th>\n",
       "      <th>runtime_in_minutes</th>\n",
       "      <th>tomatometer_status</th>\n",
       "      <th>tomatometer_rating</th>\n",
       "      <th>tomatometer_count</th>\n",
       "    </tr>\n",
       "  </thead>\n",
       "  <tbody>\n",
       "    <tr>\n",
       "      <th>9621</th>\n",
       "      <td>2.0</td>\n",
       "      <td>115.0</td>\n",
       "      <td>2.0</td>\n",
       "      <td>89</td>\n",
       "      <td>147</td>\n",
       "    </tr>\n",
       "    <tr>\n",
       "      <th>10528</th>\n",
       "      <td>5.0</td>\n",
       "      <td>96.0</td>\n",
       "      <td>1.0</td>\n",
       "      <td>94</td>\n",
       "      <td>35</td>\n",
       "    </tr>\n",
       "    <tr>\n",
       "      <th>7463</th>\n",
       "      <td>3.0</td>\n",
       "      <td>94.0</td>\n",
       "      <td>1.0</td>\n",
       "      <td>61</td>\n",
       "      <td>108</td>\n",
       "    </tr>\n",
       "    <tr>\n",
       "      <th>13546</th>\n",
       "      <td>3.0</td>\n",
       "      <td>67.0</td>\n",
       "      <td>1.0</td>\n",
       "      <td>77</td>\n",
       "      <td>13</td>\n",
       "    </tr>\n",
       "    <tr>\n",
       "      <th>2127</th>\n",
       "      <td>3.0</td>\n",
       "      <td>93.0</td>\n",
       "      <td>1.0</td>\n",
       "      <td>67</td>\n",
       "      <td>12</td>\n",
       "    </tr>\n",
       "    <tr>\n",
       "      <th>...</th>\n",
       "      <td>...</td>\n",
       "      <td>...</td>\n",
       "      <td>...</td>\n",
       "      <td>...</td>\n",
       "      <td>...</td>\n",
       "    </tr>\n",
       "    <tr>\n",
       "      <th>13418</th>\n",
       "      <td>5.0</td>\n",
       "      <td>139.0</td>\n",
       "      <td>1.0</td>\n",
       "      <td>80</td>\n",
       "      <td>20</td>\n",
       "    </tr>\n",
       "    <tr>\n",
       "      <th>3310</th>\n",
       "      <td>5.0</td>\n",
       "      <td>121.0</td>\n",
       "      <td>1.0</td>\n",
       "      <td>76</td>\n",
       "      <td>25</td>\n",
       "    </tr>\n",
       "    <tr>\n",
       "      <th>10054</th>\n",
       "      <td>2.0</td>\n",
       "      <td>104.0</td>\n",
       "      <td>0.0</td>\n",
       "      <td>52</td>\n",
       "      <td>101</td>\n",
       "    </tr>\n",
       "    <tr>\n",
       "      <th>11038</th>\n",
       "      <td>3.0</td>\n",
       "      <td>82.0</td>\n",
       "      <td>0.0</td>\n",
       "      <td>57</td>\n",
       "      <td>14</td>\n",
       "    </tr>\n",
       "    <tr>\n",
       "      <th>2768</th>\n",
       "      <td>3.0</td>\n",
       "      <td>90.0</td>\n",
       "      <td>0.0</td>\n",
       "      <td>50</td>\n",
       "      <td>12</td>\n",
       "    </tr>\n",
       "  </tbody>\n",
       "</table>\n",
       "<p>11367 rows × 5 columns</p>\n",
       "</div>"
      ],
      "text/plain": [
       "       rating  runtime_in_minutes  tomatometer_status  tomatometer_rating  \\\n",
       "9621      2.0               115.0                 2.0                  89   \n",
       "10528     5.0                96.0                 1.0                  94   \n",
       "7463      3.0                94.0                 1.0                  61   \n",
       "13546     3.0                67.0                 1.0                  77   \n",
       "2127      3.0                93.0                 1.0                  67   \n",
       "...       ...                 ...                 ...                 ...   \n",
       "13418     5.0               139.0                 1.0                  80   \n",
       "3310      5.0               121.0                 1.0                  76   \n",
       "10054     2.0               104.0                 0.0                  52   \n",
       "11038     3.0                82.0                 0.0                  57   \n",
       "2768      3.0                90.0                 0.0                  50   \n",
       "\n",
       "       tomatometer_count  \n",
       "9621                 147  \n",
       "10528                 35  \n",
       "7463                 108  \n",
       "13546                 13  \n",
       "2127                  12  \n",
       "...                  ...  \n",
       "13418                 20  \n",
       "3310                  25  \n",
       "10054                101  \n",
       "11038                 14  \n",
       "2768                  12  \n",
       "\n",
       "[11367 rows x 5 columns]"
      ]
     },
     "execution_count": 289,
     "metadata": {},
     "output_type": "execute_result"
    }
   ],
   "source": [
    "x_train"
   ]
  },
  {
   "cell_type": "markdown",
   "metadata": {},
   "source": [
    "### regression with ANN"
   ]
  },
  {
   "cell_type": "code",
   "execution_count": 88,
   "metadata": {},
   "outputs": [
    {
     "name": "stdout",
     "output_type": "stream",
     "text": [
      "Epoch 1/50\n",
      "356/356 [==============================] - 1s 2ms/step - loss: 0.5592 - mae: 0.5944 - val_loss: 0.5216 - val_mae: 0.5733\n",
      "Epoch 2/50\n",
      "356/356 [==============================] - 0s 1ms/step - loss: 0.5226 - mae: 0.5728 - val_loss: 0.5269 - val_mae: 0.5819\n",
      "Epoch 3/50\n",
      "356/356 [==============================] - 0s 1ms/step - loss: 0.5104 - mae: 0.5669 - val_loss: 0.5279 - val_mae: 0.5847\n",
      "Epoch 4/50\n",
      "356/356 [==============================] - 0s 1ms/step - loss: 0.5096 - mae: 0.5667 - val_loss: 0.5163 - val_mae: 0.5683\n",
      "Epoch 5/50\n",
      "356/356 [==============================] - 0s 1ms/step - loss: 0.5075 - mae: 0.5650 - val_loss: 0.5157 - val_mae: 0.5714\n",
      "Epoch 6/50\n",
      "356/356 [==============================] - 0s 1ms/step - loss: 0.5079 - mae: 0.5651 - val_loss: 0.5169 - val_mae: 0.5728\n",
      "Epoch 7/50\n",
      "356/356 [==============================] - 0s 1ms/step - loss: 0.5061 - mae: 0.5650 - val_loss: 0.5158 - val_mae: 0.5623\n",
      "Epoch 8/50\n",
      "356/356 [==============================] - 0s 1ms/step - loss: 0.5044 - mae: 0.5636 - val_loss: 0.5138 - val_mae: 0.5665\n",
      "Epoch 9/50\n",
      "356/356 [==============================] - 0s 1ms/step - loss: 0.5037 - mae: 0.5630 - val_loss: 0.5197 - val_mae: 0.5669\n",
      "Epoch 10/50\n",
      "356/356 [==============================] - 0s 1ms/step - loss: 0.5042 - mae: 0.5628 - val_loss: 0.5145 - val_mae: 0.5673\n",
      "Epoch 11/50\n",
      "356/356 [==============================] - 0s 1ms/step - loss: 0.5040 - mae: 0.5638 - val_loss: 0.5113 - val_mae: 0.5666\n",
      "Epoch 12/50\n",
      "356/356 [==============================] - 0s 1ms/step - loss: 0.5052 - mae: 0.5639 - val_loss: 0.5114 - val_mae: 0.5639\n",
      "Epoch 13/50\n",
      "356/356 [==============================] - 0s 1ms/step - loss: 0.5022 - mae: 0.5626 - val_loss: 0.5178 - val_mae: 0.5663\n",
      "Epoch 14/50\n",
      "356/356 [==============================] - 0s 1ms/step - loss: 0.5021 - mae: 0.5610 - val_loss: 0.5197 - val_mae: 0.5698\n",
      "Epoch 15/50\n",
      "356/356 [==============================] - 0s 1ms/step - loss: 0.5014 - mae: 0.5617 - val_loss: 0.5121 - val_mae: 0.5654\n",
      "Epoch 16/50\n",
      "356/356 [==============================] - 0s 1ms/step - loss: 0.5004 - mae: 0.5606 - val_loss: 0.5174 - val_mae: 0.5743\n",
      "Epoch 17/50\n",
      "356/356 [==============================] - 0s 1ms/step - loss: 0.5010 - mae: 0.5608 - val_loss: 0.5110 - val_mae: 0.5648\n",
      "Epoch 18/50\n",
      "356/356 [==============================] - 0s 1ms/step - loss: 0.5013 - mae: 0.5618 - val_loss: 0.5162 - val_mae: 0.5681\n",
      "Epoch 19/50\n",
      "356/356 [==============================] - 0s 1ms/step - loss: 0.5003 - mae: 0.5608 - val_loss: 0.5161 - val_mae: 0.5701\n",
      "Epoch 20/50\n",
      "356/356 [==============================] - 0s 1ms/step - loss: 0.5001 - mae: 0.5603 - val_loss: 0.5172 - val_mae: 0.5674\n",
      "Epoch 21/50\n",
      "356/356 [==============================] - 0s 1ms/step - loss: 0.5031 - mae: 0.5620 - val_loss: 0.5142 - val_mae: 0.5689\n",
      "Epoch 22/50\n",
      "356/356 [==============================] - 0s 1ms/step - loss: 0.4986 - mae: 0.5596 - val_loss: 0.5106 - val_mae: 0.5650\n",
      "Epoch 23/50\n",
      "356/356 [==============================] - 0s 1ms/step - loss: 0.4982 - mae: 0.5588 - val_loss: 0.5172 - val_mae: 0.5646\n",
      "Epoch 24/50\n",
      "356/356 [==============================] - 0s 1ms/step - loss: 0.4973 - mae: 0.5586 - val_loss: 0.5113 - val_mae: 0.5634\n",
      "Epoch 25/50\n",
      "356/356 [==============================] - 0s 1ms/step - loss: 0.4973 - mae: 0.5591 - val_loss: 0.5115 - val_mae: 0.5621\n",
      "Epoch 26/50\n",
      "356/356 [==============================] - 0s 1ms/step - loss: 0.4997 - mae: 0.5603 - val_loss: 0.5158 - val_mae: 0.5675\n",
      "Epoch 27/50\n",
      "356/356 [==============================] - 0s 1ms/step - loss: 0.4979 - mae: 0.5585 - val_loss: 0.5164 - val_mae: 0.5705\n",
      "Epoch 28/50\n",
      "356/356 [==============================] - 0s 1ms/step - loss: 0.4980 - mae: 0.5587 - val_loss: 0.5152 - val_mae: 0.5652\n",
      "Epoch 29/50\n",
      "356/356 [==============================] - 0s 1ms/step - loss: 0.4967 - mae: 0.5579 - val_loss: 0.5146 - val_mae: 0.5641\n",
      "Epoch 30/50\n",
      "356/356 [==============================] - 0s 1ms/step - loss: 0.4978 - mae: 0.5594 - val_loss: 0.5130 - val_mae: 0.5643\n",
      "Epoch 31/50\n",
      "356/356 [==============================] - 1s 1ms/step - loss: 0.4954 - mae: 0.5576 - val_loss: 0.5128 - val_mae: 0.5709\n",
      "Epoch 32/50\n",
      "356/356 [==============================] - 0s 1ms/step - loss: 0.4959 - mae: 0.5574 - val_loss: 0.5143 - val_mae: 0.5659\n",
      "Epoch 33/50\n",
      "356/356 [==============================] - 0s 1ms/step - loss: 0.4947 - mae: 0.5570 - val_loss: 0.5168 - val_mae: 0.5717\n",
      "Epoch 34/50\n",
      "356/356 [==============================] - 0s 1ms/step - loss: 0.4946 - mae: 0.5567 - val_loss: 0.5147 - val_mae: 0.5654\n",
      "Epoch 35/50\n",
      "356/356 [==============================] - 0s 1ms/step - loss: 0.4951 - mae: 0.5570 - val_loss: 0.5182 - val_mae: 0.5715\n",
      "Epoch 36/50\n",
      "356/356 [==============================] - 0s 1ms/step - loss: 0.4983 - mae: 0.5587 - val_loss: 0.5110 - val_mae: 0.5620\n",
      "Epoch 37/50\n",
      "356/356 [==============================] - 0s 1ms/step - loss: 0.4950 - mae: 0.5568 - val_loss: 0.5169 - val_mae: 0.5708\n",
      "Epoch 38/50\n",
      "356/356 [==============================] - 0s 1ms/step - loss: 0.4946 - mae: 0.5567 - val_loss: 0.5175 - val_mae: 0.5686\n",
      "Epoch 39/50\n",
      "356/356 [==============================] - 0s 1ms/step - loss: 0.4956 - mae: 0.5581 - val_loss: 0.5233 - val_mae: 0.5712\n",
      "Epoch 40/50\n",
      "356/356 [==============================] - 0s 1ms/step - loss: 0.4956 - mae: 0.5577 - val_loss: 0.5164 - val_mae: 0.5620\n",
      "Epoch 41/50\n",
      "356/356 [==============================] - 0s 1ms/step - loss: 0.4938 - mae: 0.5556 - val_loss: 0.5151 - val_mae: 0.5677\n",
      "Epoch 42/50\n",
      "356/356 [==============================] - 0s 1ms/step - loss: 0.4934 - mae: 0.5562 - val_loss: 0.5206 - val_mae: 0.5664\n",
      "Epoch 43/50\n",
      "356/356 [==============================] - 0s 1ms/step - loss: 0.4930 - mae: 0.5559 - val_loss: 0.5192 - val_mae: 0.5729\n",
      "Epoch 44/50\n",
      "356/356 [==============================] - 0s 1ms/step - loss: 0.4924 - mae: 0.5554 - val_loss: 0.5139 - val_mae: 0.5719\n",
      "Epoch 45/50\n",
      "356/356 [==============================] - 0s 1ms/step - loss: 0.4936 - mae: 0.5568 - val_loss: 0.5117 - val_mae: 0.5631\n",
      "Epoch 46/50\n",
      "356/356 [==============================] - 0s 1ms/step - loss: 0.4925 - mae: 0.5553 - val_loss: 0.5177 - val_mae: 0.5693\n",
      "Epoch 47/50\n",
      "356/356 [==============================] - 0s 1ms/step - loss: 0.4924 - mae: 0.5559 - val_loss: 0.5239 - val_mae: 0.5702\n",
      "Epoch 48/50\n",
      "356/356 [==============================] - 0s 1ms/step - loss: 0.4945 - mae: 0.5556 - val_loss: 0.5196 - val_mae: 0.5677\n",
      "Epoch 49/50\n",
      "356/356 [==============================] - 1s 2ms/step - loss: 0.5011 - mae: 0.5589 - val_loss: 0.5115 - val_mae: 0.5672\n",
      "Epoch 50/50\n",
      "356/356 [==============================] - 1s 1ms/step - loss: 0.4912 - mae: 0.5544 - val_loss: 0.5158 - val_mae: 0.5706\n",
      "153/153 [==============================] - 0s 801us/step\n",
      "Mean Squared Error (MSE): 214.26374113330223\n",
      "R2 Score: 0.49410307170797796\n"
     ]
    },
    {
     "data": {
      "image/png": "[encoded data removed]",
      "text/plain": [
       "<Figure size 1200x600 with 1 Axes>"
      ]
     },
     "metadata": {},
     "output_type": "display_data"
    }
   ],
   "source": [
    "import numpy as np\n",
    "import tensorflow as tf\n",
    "from tensorflow.keras.models import Sequential\n",
    "from tensorflow.keras.layers import Dense,Dropout\n",
    "from tensorflow.keras.optimizers import Adam\n",
    "from sklearn.model_selection import train_test_split\n",
    "from sklearn.preprocessing import StandardScaler\n",
    "from sklearn.metrics import mean_squared_error, r2_score\n",
    "\n",
    "scaler_y = StandardScaler()\n",
    "y_train_scaled = scaler_y.fit_transform(np.array(y_train).reshape(-1, 1)).flatten()\n",
    "y_test_scaled = scaler_y.transform(np.array(y_test).reshape(-1, 1)).flatten()\n",
    "# y_train_scaled = np.array(y_train).reshape(-1, 1).flatten()\n",
    "# y_test_scaled = np.array(y_test).reshape(-1, 1).flatten()\n",
    "\n",
    "# Build the ANN model\n",
    "model = Sequential([\n",
    "    Dense(64, input_dim=x_train_transformed.shape[1], activation='relu'),\n",
    "  # Input layer\n",
    "    Dense(32, activation='relu'),  # Hidden layer\n",
    "    Dense(16, activation='relu'),  # Hidden layer\n",
    "    Dense(1)  # Output layer (for regression, single output)\n",
    "])\n",
    "\n",
    "# Compile the model\n",
    "model.compile(optimizer=Adam(learning_rate=0.001), loss='mse',metrics=['mae'])\n",
    "\n",
    "# Train the model\n",
    "history = model.fit(x_train_transformed, y_train_scaled, \n",
    "                    validation_data=(x_test_transformed, y_test_scaled,), \n",
    "                    epochs=50, \n",
    "                    batch_size=32, \n",
    "                    verbose=1)\n",
    "\n",
    "# Predict on test set\n",
    "y_pred_scaled = model.predict(x_test_transformed)\n",
    "y_pred = scaler_y.inverse_transform(y_pred_scaled)\n",
    "\n",
    "# Evaluate the model\n",
    "mse = mean_squared_error(y_test, y_pred)\n",
    "r2 = r2_score(y_test, y_pred)\n",
    "\n",
    "print(f\"Mean Squared Error (MSE): {mse}\")\n",
    "print(f\"R2 Score: {r2}\")\n",
    "\n",
    "# Plot training history\n",
    "import matplotlib.pyplot as plt\n",
    "\n",
    "plt.figure(figsize=(12, 6))\n",
    "plt.plot(history.history['loss'], label='Training Loss')\n",
    "plt.plot(history.history['val_loss'], label='Validation Loss')\n",
    "plt.title('Loss Curve')\n",
    "plt.xlabel('Epochs')\n",
    "plt.ylabel('Loss (MSE)')\n",
    "plt.legend()\n",
    "plt.show()\n"
   ]
  },
  {
   "cell_type": "code",
   "execution_count": 134,
   "metadata": {},
   "outputs": [
    {
     "data": {
      "text/html": [
       "<div>\n",
       "<style scoped>\n",
       "    .dataframe tbody tr th:only-of-type {\n",
       "        vertical-align: middle;\n",
       "    }\n",
       "\n",
       "    .dataframe tbody tr th {\n",
       "        vertical-align: top;\n",
       "    }\n",
       "\n",
       "    .dataframe thead th {\n",
       "        text-align: right;\n",
       "    }\n",
       "</style>\n",
       "<table border=\"1\" class=\"dataframe\">\n",
       "  <thead>\n",
       "    <tr style=\"text-align: right;\">\n",
       "      <th></th>\n",
       "      <th>rating</th>\n",
       "      <th>runtime_in_minutes</th>\n",
       "      <th>tomatometer_status</th>\n",
       "      <th>tomatometer_rating</th>\n",
       "      <th>tomatometer_count</th>\n",
       "    </tr>\n",
       "  </thead>\n",
       "  <tbody>\n",
       "    <tr>\n",
       "      <th>0</th>\n",
       "      <td>-0.688953</td>\n",
       "      <td>0.461196</td>\n",
       "      <td>1.682811</td>\n",
       "      <td>0.990870</td>\n",
       "      <td>1.358226</td>\n",
       "    </tr>\n",
       "    <tr>\n",
       "      <th>1</th>\n",
       "      <td>1.346921</td>\n",
       "      <td>-0.245770</td>\n",
       "      <td>0.333928</td>\n",
       "      <td>1.166392</td>\n",
       "      <td>-0.336216</td>\n",
       "    </tr>\n",
       "    <tr>\n",
       "      <th>2</th>\n",
       "      <td>-0.010328</td>\n",
       "      <td>-0.320188</td>\n",
       "      <td>0.333928</td>\n",
       "      <td>0.007946</td>\n",
       "      <td>0.768197</td>\n",
       "    </tr>\n",
       "    <tr>\n",
       "      <th>3</th>\n",
       "      <td>-0.010328</td>\n",
       "      <td>-1.324824</td>\n",
       "      <td>0.333928</td>\n",
       "      <td>0.569617</td>\n",
       "      <td>-0.669053</td>\n",
       "    </tr>\n",
       "    <tr>\n",
       "      <th>4</th>\n",
       "      <td>-0.010328</td>\n",
       "      <td>-0.357397</td>\n",
       "      <td>0.333928</td>\n",
       "      <td>0.218573</td>\n",
       "      <td>-0.684182</td>\n",
       "    </tr>\n",
       "    <tr>\n",
       "      <th>...</th>\n",
       "      <td>...</td>\n",
       "      <td>...</td>\n",
       "      <td>...</td>\n",
       "      <td>...</td>\n",
       "      <td>...</td>\n",
       "    </tr>\n",
       "    <tr>\n",
       "      <th>11362</th>\n",
       "      <td>1.346921</td>\n",
       "      <td>1.354206</td>\n",
       "      <td>0.333928</td>\n",
       "      <td>0.674930</td>\n",
       "      <td>-0.563150</td>\n",
       "    </tr>\n",
       "    <tr>\n",
       "      <th>11363</th>\n",
       "      <td>1.346921</td>\n",
       "      <td>0.684449</td>\n",
       "      <td>0.333928</td>\n",
       "      <td>0.534513</td>\n",
       "      <td>-0.487506</td>\n",
       "    </tr>\n",
       "    <tr>\n",
       "      <th>11364</th>\n",
       "      <td>-0.688953</td>\n",
       "      <td>0.051900</td>\n",
       "      <td>-1.014955</td>\n",
       "      <td>-0.307994</td>\n",
       "      <td>0.662294</td>\n",
       "    </tr>\n",
       "    <tr>\n",
       "      <th>11365</th>\n",
       "      <td>-0.010328</td>\n",
       "      <td>-0.766693</td>\n",
       "      <td>-1.014955</td>\n",
       "      <td>-0.132472</td>\n",
       "      <td>-0.653924</td>\n",
       "    </tr>\n",
       "    <tr>\n",
       "      <th>11366</th>\n",
       "      <td>-0.010328</td>\n",
       "      <td>-0.469023</td>\n",
       "      <td>-1.014955</td>\n",
       "      <td>-0.378203</td>\n",
       "      <td>-0.684182</td>\n",
       "    </tr>\n",
       "  </tbody>\n",
       "</table>\n",
       "<p>11367 rows × 5 columns</p>\n",
       "</div>"
      ],
      "text/plain": [
       "         rating  runtime_in_minutes  tomatometer_status  tomatometer_rating  \\\n",
       "0     -0.688953            0.461196            1.682811            0.990870   \n",
       "1      1.346921           -0.245770            0.333928            1.166392   \n",
       "2     -0.010328           -0.320188            0.333928            0.007946   \n",
       "3     -0.010328           -1.324824            0.333928            0.569617   \n",
       "4     -0.010328           -0.357397            0.333928            0.218573   \n",
       "...         ...                 ...                 ...                 ...   \n",
       "11362  1.346921            1.354206            0.333928            0.674930   \n",
       "11363  1.346921            0.684449            0.333928            0.534513   \n",
       "11364 -0.688953            0.051900           -1.014955           -0.307994   \n",
       "11365 -0.010328           -0.766693           -1.014955           -0.132472   \n",
       "11366 -0.010328           -0.469023           -1.014955           -0.378203   \n",
       "\n",
       "       tomatometer_count  \n",
       "0               1.358226  \n",
       "1              -0.336216  \n",
       "2               0.768197  \n",
       "3              -0.669053  \n",
       "4              -0.684182  \n",
       "...                  ...  \n",
       "11362          -0.563150  \n",
       "11363          -0.487506  \n",
       "11364           0.662294  \n",
       "11365          -0.653924  \n",
       "11366          -0.684182  \n",
       "\n",
       "[11367 rows x 5 columns]"
      ]
     },
     "execution_count": 134,
     "metadata": {},
     "output_type": "execute_result"
    }
   ],
   "source": [
    "x_train_transformed"
   ]
  },
  {
   "cell_type": "code",
   "execution_count": 94,
   "metadata": {},
   "outputs": [
    {
     "name": "stderr",
     "output_type": "stream",
     "text": [
      "c:\\Users\\chinn\\AppData\\Local\\Programs\\Python\\Python311\\Lib\\site-packages\\keras\\src\\engine\\training.py:3103: UserWarning: You are saving your model as an HDF5 file via `model.save()`. This file format is considered legacy. We recommend using instead the native Keras format, e.g. `model.save('my_model.keras')`.\n",
      "  saving_api.save_model(\n"
     ]
    }
   ],
   "source": [
    "model.save('ann_model.h5')  \n"
   ]
  },
  {
   "cell_type": "code",
   "execution_count": 123,
   "metadata": {},
   "outputs": [
    {
     "data": {
      "text/plain": [
       "['scaler.h5']"
      ]
     },
     "execution_count": 123,
     "metadata": {},
     "output_type": "execute_result"
    }
   ],
   "source": [
    "import joblib\n",
    "joblib.dump(scaler,'scaler.h5')"
   ]
  },
  {
   "cell_type": "code",
   "execution_count": 135,
   "metadata": {},
   "outputs": [
    {
     "data": {
      "text/plain": [
       "['scaler_y.h5']"
      ]
     },
     "execution_count": 135,
     "metadata": {},
     "output_type": "execute_result"
    }
   ],
   "source": [
    "import joblib\n",
    "joblib.dump(scaler_y,'scaler_y.h5')"
   ]
  },
  {
   "cell_type": "markdown",
   "metadata": {},
   "source": [
    "### conclusion - Since ann model got highest of all other model with r2 score of ~0.49 we are going to use ann model for prediction"
   ]
  },
  {
   "cell_type": "code",
   "execution_count": 133,
   "metadata": {},
   "outputs": [
    {
     "name": "stdout",
     "output_type": "stream",
     "text": [
      "1/1 [==============================] - 0s 66ms/step\n"
     ]
    },
    {
     "name": "stderr",
     "output_type": "stream",
     "text": [
      "c:\\Users\\chinn\\AppData\\Local\\Programs\\Python\\Python311\\Lib\\site-packages\\sklearn\\base.py:439: UserWarning: X does not have valid feature names, but StandardScaler was fitted with feature names\n",
      "  warnings.warn(\n"
     ]
    },
    {
     "data": {
      "text/plain": [
       "array([[81.23305]], dtype=float32)"
      ]
     },
     "execution_count": 133,
     "metadata": {},
     "output_type": "execute_result"
    }
   ],
   "source": [
    "from tensorflow.keras.models import load_model\n",
    "import joblib \n",
    "\n",
    "scaler=joblib.load('scaler.h5')\n",
    "loaded_model = load_model('ann_model.h5')\n",
    "example=pd.DataFrame([2.,90.,3.,100,70]).T\n",
    "example=scaler.transform(example)\n",
    "# Use the loaded model for predictions or further training\n",
    "y_pred = loaded_model.predict(example)\n",
    "y_pred = scaler_y.inverse_transform(y_pred)\n",
    "y_pred\n"
   ]
  }
 ],
 "metadata": {
  "kernelspec": {
   "display_name": "Python 3",
   "language": "python",
   "name": "python3"
  },
  "language_info": {
   "codemirror_mode": {
    "name": "ipython",
    "version": 3
   },
   "file_extension": ".py",
   "mimetype": "text/x-python",
   "name": "python",
   "nbconvert_exporter": "python",
   "pygments_lexer": "ipython3",
   "version": "3.11.4"
  }
 },
 "nbformat": 4,
 "nbformat_minor": 2
}
